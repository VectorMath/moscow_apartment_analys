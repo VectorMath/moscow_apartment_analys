{
 "cells": [
  {
   "cell_type": "markdown",
   "id": "712c2ef7",
   "metadata": {},
   "source": [
    "# Проверка гипотез в анализе недвижимости.\n",
    "\n",
    "В данном ноутбуке произведена работа по проверке гипотез путём методов статистического анализа, для проверки гипотез, которые были сформированы и выявлены в общеем анализе данных."
   ]
  },
  {
   "cell_type": "markdown",
   "id": "eb4e3e85",
   "metadata": {},
   "source": [
    "## Оглавление.\n",
    "\n",
    "* ### [Импорт библиотек и загрузка данных](#Импорт-библиотек-и-загрузка-данных.)\n",
    "* ### [Средняя цена трёхкомнатной квартиры в Северном и Северо-восточном округе](#Средняя-цена-трёхкомнатной-квартиры-в-Северном-и-Северо-восточном-округе.)\n",
    "    * #### [Критерий Манна-Уитни](#Критерий-Манна-Уитни.)\n",
    "    * #### [Доверительный интервал](#Доверительный-интервал.)\n",
    "    * #### [Дополнительная проверка: цена за квадратный метр](#Дополнительная-проверка:-цена-за-квадратный-метр.)\n",
    "    * #### [Дополнительная проверка: площадь](#Дополнительная-проверка:-площадь.)\n",
    "* ### [Средний путь до метро в разрезе округов](#Средний-путь-до-метро-в-разрезе-округов.)\n",
    "    * #### [Доверительные интервалы](#Доверительные-интервалы.)\n",
    "    * #### [Результат дисперсионного анализа](#Результат-дисперсионного-анализа.)\n",
    "* ### [Влияние этажности здания на другие параметры](#Влияние-этажности-здания-на-другие-параметры.)\n",
    "    * #### [Коэффицент корреляции Спирмена](#Коэффицент-корреляции-Спирмена.)\n",
    "    * #### [Результат проверки](#Результат-проверки.)\n",
    "    \n",
    "* ### [Итог проверки гипотез](#Итог-проверки-гипотез.)"
   ]
  },
  {
   "cell_type": "markdown",
   "id": "739e5989",
   "metadata": {},
   "source": [
    "## Импорт библиотек и загрузка данных."
   ]
  },
  {
   "cell_type": "code",
   "execution_count": 1,
   "id": "4c0c237c",
   "metadata": {},
   "outputs": [],
   "source": [
    "'''\n",
    "Импорт библиотек.\n",
    "'''\n",
    "import pandas as pd\n",
    "import numpy as np\n",
    "import matplotlib.pyplot as plt\n",
    "import seaborn as sns\n",
    "\n",
    "import scipy.stats\n",
    "from scipy.stats import mannwhitneyu\n",
    "from scipy.stats import spearmanr\n",
    "from scipy.stats import f_oneway\n",
    "\n",
    "%matplotlib inline\n",
    "\n",
    "# Изменим размер графиков\n",
    "sns.set(rc={'figure.figsize': (10,6)})"
   ]
  },
  {
   "cell_type": "code",
   "execution_count": 2,
   "id": "52f001ad",
   "metadata": {},
   "outputs": [],
   "source": [
    "'''\n",
    "Загружаем данные.\n",
    "'''\n",
    "df = pd.read_csv('../data/clean_apartment_data.csv')"
   ]
  },
  {
   "cell_type": "code",
   "execution_count": 3,
   "id": "ba7e1a68",
   "metadata": {},
   "outputs": [
    {
     "data": {
      "text/html": [
       "<div>\n",
       "<style scoped>\n",
       "    .dataframe tbody tr th:only-of-type {\n",
       "        vertical-align: middle;\n",
       "    }\n",
       "\n",
       "    .dataframe tbody tr th {\n",
       "        vertical-align: top;\n",
       "    }\n",
       "\n",
       "    .dataframe thead th {\n",
       "        text-align: right;\n",
       "    }\n",
       "</style>\n",
       "<table border=\"1\" class=\"dataframe\">\n",
       "  <thead>\n",
       "    <tr style=\"text-align: right;\">\n",
       "      <th></th>\n",
       "      <th>price_per_square_metr</th>\n",
       "      <th>price</th>\n",
       "      <th>square</th>\n",
       "      <th>distance_to_station</th>\n",
       "      <th>total_floors</th>\n",
       "      <th>district</th>\n",
       "      <th>metro_station</th>\n",
       "      <th>apartment_type</th>\n",
       "    </tr>\n",
       "  </thead>\n",
       "  <tbody>\n",
       "    <tr>\n",
       "      <th>0</th>\n",
       "      <td>258.21</td>\n",
       "      <td>10.07</td>\n",
       "      <td>39.0</td>\n",
       "      <td>0.8</td>\n",
       "      <td>13</td>\n",
       "      <td>Новомосковский</td>\n",
       "      <td>Прокшино</td>\n",
       "      <td>2-к квартира</td>\n",
       "    </tr>\n",
       "    <tr>\n",
       "      <th>1</th>\n",
       "      <td>392.27</td>\n",
       "      <td>7.10</td>\n",
       "      <td>18.1</td>\n",
       "      <td>0.4</td>\n",
       "      <td>9</td>\n",
       "      <td>Северо-западный</td>\n",
       "      <td>Октябрьское поле</td>\n",
       "      <td>Квартира-студия</td>\n",
       "    </tr>\n",
       "    <tr>\n",
       "      <th>2</th>\n",
       "      <td>207.76</td>\n",
       "      <td>16.33</td>\n",
       "      <td>78.6</td>\n",
       "      <td>0.8</td>\n",
       "      <td>33</td>\n",
       "      <td>Восточный</td>\n",
       "      <td>Бульвар Рокоссовского</td>\n",
       "      <td>3-к квартира</td>\n",
       "    </tr>\n",
       "    <tr>\n",
       "      <th>3</th>\n",
       "      <td>195.86</td>\n",
       "      <td>10.40</td>\n",
       "      <td>53.1</td>\n",
       "      <td>2.6</td>\n",
       "      <td>21</td>\n",
       "      <td>Новомосковский</td>\n",
       "      <td>Филатов луг</td>\n",
       "      <td>2-к квартира</td>\n",
       "    </tr>\n",
       "    <tr>\n",
       "      <th>4</th>\n",
       "      <td>180.07</td>\n",
       "      <td>15.36</td>\n",
       "      <td>85.3</td>\n",
       "      <td>2.6</td>\n",
       "      <td>21</td>\n",
       "      <td>Новомосковский</td>\n",
       "      <td>Филатов луг</td>\n",
       "      <td>3-к квартира</td>\n",
       "    </tr>\n",
       "  </tbody>\n",
       "</table>\n",
       "</div>"
      ],
      "text/plain": [
       "   price_per_square_metr  price  square  distance_to_station  total_floors  \\\n",
       "0                 258.21  10.07    39.0                  0.8            13   \n",
       "1                 392.27   7.10    18.1                  0.4             9   \n",
       "2                 207.76  16.33    78.6                  0.8            33   \n",
       "3                 195.86  10.40    53.1                  2.6            21   \n",
       "4                 180.07  15.36    85.3                  2.6            21   \n",
       "\n",
       "          district          metro_station   apartment_type  \n",
       "0   Новомосковский               Прокшино     2-к квартира  \n",
       "1  Северо-западный       Октябрьское поле  Квартира-студия  \n",
       "2        Восточный  Бульвар Рокоссовского     3-к квартира  \n",
       "3   Новомосковский            Филатов луг     2-к квартира  \n",
       "4   Новомосковский            Филатов луг     3-к квартира  "
      ]
     },
     "execution_count": 3,
     "metadata": {},
     "output_type": "execute_result"
    }
   ],
   "source": [
    "df.head()"
   ]
  },
  {
   "cell_type": "markdown",
   "id": "7d1967a5",
   "metadata": {},
   "source": [
    "## Средняя цена трёхкомнатной квартиры в Северном и Северо-восточном округе.\n",
    "\n",
    "Исходя из общего анализа данных, мы заметили, что **средняя цена трёхкомнатных квартир** в Северном и Северо-восточном округе стали сильно отличаться, т.к средняя цена на 1-к и 2-к квартиры в этих же округах была практически одинакова.\n",
    "\n",
    "Мы имеем следующее:\n",
    "\n",
    " * Средняя цена на 3-к квартиру в Северном округе = **29.54 млн рублей.**\n",
    " * Средняя цена на 3-к квартиру в Северо-восточном округе = **21.91 млн рублей.**\n",
    " \n",
    "*Составляем гипотезы:*\n",
    " * **H0:** Средняя цена на трёхкомнатную квартиру в обоих округах одинаковая.\n",
    "\n",
    "\n",
    " * **H1:** Средняя цена на трёхкомнатную квартиру неодинаковая. В Северном округе 3-к квартира стоит дороже."
   ]
  },
  {
   "cell_type": "markdown",
   "id": "e2861d4e",
   "metadata": {},
   "source": [
    "Для начала стоит получить данные по каждому округу и посмотреть как там распределены данные."
   ]
  },
  {
   "cell_type": "code",
   "execution_count": 4,
   "id": "2ca342e6",
   "metadata": {},
   "outputs": [],
   "source": [
    "# Получаем данные о 3-к квартирах в Северном округе.\n",
    "north_df = df.query(\"apartment_type == '3-к квартира' & district == 'Северный'\")\n",
    "\n",
    "# Получаем данные о 3-к квартирах в Северо-восточном округе.\n",
    "north_east_df = df.query(\"apartment_type == '3-к квартира' & district == 'Северо-восточный'\")"
   ]
  },
  {
   "cell_type": "code",
   "execution_count": 5,
   "id": "ce645dd6",
   "metadata": {},
   "outputs": [
    {
     "data": {
      "text/html": [
       "<div>\n",
       "<style scoped>\n",
       "    .dataframe tbody tr th:only-of-type {\n",
       "        vertical-align: middle;\n",
       "    }\n",
       "\n",
       "    .dataframe tbody tr th {\n",
       "        vertical-align: top;\n",
       "    }\n",
       "\n",
       "    .dataframe thead th {\n",
       "        text-align: right;\n",
       "    }\n",
       "</style>\n",
       "<table border=\"1\" class=\"dataframe\">\n",
       "  <thead>\n",
       "    <tr style=\"text-align: right;\">\n",
       "      <th></th>\n",
       "      <th>price_per_square_metr</th>\n",
       "      <th>price</th>\n",
       "      <th>square</th>\n",
       "      <th>distance_to_station</th>\n",
       "      <th>total_floors</th>\n",
       "    </tr>\n",
       "  </thead>\n",
       "  <tbody>\n",
       "    <tr>\n",
       "      <th>count</th>\n",
       "      <td>59.000000</td>\n",
       "      <td>59.000000</td>\n",
       "      <td>59.000000</td>\n",
       "      <td>59.000000</td>\n",
       "      <td>59.000000</td>\n",
       "    </tr>\n",
       "    <tr>\n",
       "      <th>mean</th>\n",
       "      <td>338.308983</td>\n",
       "      <td>29.542881</td>\n",
       "      <td>81.537288</td>\n",
       "      <td>0.949153</td>\n",
       "      <td>22.847458</td>\n",
       "    </tr>\n",
       "    <tr>\n",
       "      <th>std</th>\n",
       "      <td>154.073437</td>\n",
       "      <td>24.827649</td>\n",
       "      <td>24.177768</td>\n",
       "      <td>0.607531</td>\n",
       "      <td>13.975118</td>\n",
       "    </tr>\n",
       "    <tr>\n",
       "      <th>min</th>\n",
       "      <td>194.670000</td>\n",
       "      <td>11.900000</td>\n",
       "      <td>56.700000</td>\n",
       "      <td>0.200000</td>\n",
       "      <td>5.000000</td>\n",
       "    </tr>\n",
       "    <tr>\n",
       "      <th>25%</th>\n",
       "      <td>247.615000</td>\n",
       "      <td>18.450000</td>\n",
       "      <td>69.900000</td>\n",
       "      <td>0.600000</td>\n",
       "      <td>13.000000</td>\n",
       "    </tr>\n",
       "    <tr>\n",
       "      <th>50%</th>\n",
       "      <td>312.700000</td>\n",
       "      <td>22.360000</td>\n",
       "      <td>78.500000</td>\n",
       "      <td>0.800000</td>\n",
       "      <td>21.000000</td>\n",
       "    </tr>\n",
       "    <tr>\n",
       "      <th>75%</th>\n",
       "      <td>359.295000</td>\n",
       "      <td>30.710000</td>\n",
       "      <td>83.850000</td>\n",
       "      <td>1.000000</td>\n",
       "      <td>33.000000</td>\n",
       "    </tr>\n",
       "    <tr>\n",
       "      <th>max</th>\n",
       "      <td>1132.780000</td>\n",
       "      <td>178.980000</td>\n",
       "      <td>177.000000</td>\n",
       "      <td>2.700000</td>\n",
       "      <td>58.000000</td>\n",
       "    </tr>\n",
       "  </tbody>\n",
       "</table>\n",
       "</div>"
      ],
      "text/plain": [
       "       price_per_square_metr       price      square  distance_to_station  \\\n",
       "count              59.000000   59.000000   59.000000            59.000000   \n",
       "mean              338.308983   29.542881   81.537288             0.949153   \n",
       "std               154.073437   24.827649   24.177768             0.607531   \n",
       "min               194.670000   11.900000   56.700000             0.200000   \n",
       "25%               247.615000   18.450000   69.900000             0.600000   \n",
       "50%               312.700000   22.360000   78.500000             0.800000   \n",
       "75%               359.295000   30.710000   83.850000             1.000000   \n",
       "max              1132.780000  178.980000  177.000000             2.700000   \n",
       "\n",
       "       total_floors  \n",
       "count     59.000000  \n",
       "mean      22.847458  \n",
       "std       13.975118  \n",
       "min        5.000000  \n",
       "25%       13.000000  \n",
       "50%       21.000000  \n",
       "75%       33.000000  \n",
       "max       58.000000  "
      ]
     },
     "execution_count": 5,
     "metadata": {},
     "output_type": "execute_result"
    }
   ],
   "source": [
    "north_df.describe()"
   ]
  },
  {
   "cell_type": "code",
   "execution_count": 6,
   "id": "1e796cb6",
   "metadata": {},
   "outputs": [
    {
     "data": {
      "text/html": [
       "<div>\n",
       "<style scoped>\n",
       "    .dataframe tbody tr th:only-of-type {\n",
       "        vertical-align: middle;\n",
       "    }\n",
       "\n",
       "    .dataframe tbody tr th {\n",
       "        vertical-align: top;\n",
       "    }\n",
       "\n",
       "    .dataframe thead th {\n",
       "        text-align: right;\n",
       "    }\n",
       "</style>\n",
       "<table border=\"1\" class=\"dataframe\">\n",
       "  <thead>\n",
       "    <tr style=\"text-align: right;\">\n",
       "      <th></th>\n",
       "      <th>price_per_square_metr</th>\n",
       "      <th>price</th>\n",
       "      <th>square</th>\n",
       "      <th>distance_to_station</th>\n",
       "      <th>total_floors</th>\n",
       "    </tr>\n",
       "  </thead>\n",
       "  <tbody>\n",
       "    <tr>\n",
       "      <th>count</th>\n",
       "      <td>39.000000</td>\n",
       "      <td>39.000000</td>\n",
       "      <td>39.000000</td>\n",
       "      <td>39.000000</td>\n",
       "      <td>39.000000</td>\n",
       "    </tr>\n",
       "    <tr>\n",
       "      <th>mean</th>\n",
       "      <td>253.468718</td>\n",
       "      <td>21.905385</td>\n",
       "      <td>87.735897</td>\n",
       "      <td>0.933333</td>\n",
       "      <td>28.025641</td>\n",
       "    </tr>\n",
       "    <tr>\n",
       "      <th>std</th>\n",
       "      <td>54.100535</td>\n",
       "      <td>7.334169</td>\n",
       "      <td>27.551182</td>\n",
       "      <td>0.592645</td>\n",
       "      <td>16.358624</td>\n",
       "    </tr>\n",
       "    <tr>\n",
       "      <th>min</th>\n",
       "      <td>196.380000</td>\n",
       "      <td>11.500000</td>\n",
       "      <td>50.000000</td>\n",
       "      <td>0.200000</td>\n",
       "      <td>5.000000</td>\n",
       "    </tr>\n",
       "    <tr>\n",
       "      <th>25%</th>\n",
       "      <td>214.555000</td>\n",
       "      <td>16.525000</td>\n",
       "      <td>71.600000</td>\n",
       "      <td>0.700000</td>\n",
       "      <td>16.000000</td>\n",
       "    </tr>\n",
       "    <tr>\n",
       "      <th>50%</th>\n",
       "      <td>231.120000</td>\n",
       "      <td>19.770000</td>\n",
       "      <td>81.200000</td>\n",
       "      <td>0.800000</td>\n",
       "      <td>32.000000</td>\n",
       "    </tr>\n",
       "    <tr>\n",
       "      <th>75%</th>\n",
       "      <td>268.555000</td>\n",
       "      <td>25.965000</td>\n",
       "      <td>93.800000</td>\n",
       "      <td>0.900000</td>\n",
       "      <td>33.000000</td>\n",
       "    </tr>\n",
       "    <tr>\n",
       "      <th>max</th>\n",
       "      <td>420.410000</td>\n",
       "      <td>45.530000</td>\n",
       "      <td>143.700000</td>\n",
       "      <td>2.900000</td>\n",
       "      <td>56.000000</td>\n",
       "    </tr>\n",
       "  </tbody>\n",
       "</table>\n",
       "</div>"
      ],
      "text/plain": [
       "       price_per_square_metr      price      square  distance_to_station  \\\n",
       "count              39.000000  39.000000   39.000000            39.000000   \n",
       "mean              253.468718  21.905385   87.735897             0.933333   \n",
       "std                54.100535   7.334169   27.551182             0.592645   \n",
       "min               196.380000  11.500000   50.000000             0.200000   \n",
       "25%               214.555000  16.525000   71.600000             0.700000   \n",
       "50%               231.120000  19.770000   81.200000             0.800000   \n",
       "75%               268.555000  25.965000   93.800000             0.900000   \n",
       "max               420.410000  45.530000  143.700000             2.900000   \n",
       "\n",
       "       total_floors  \n",
       "count     39.000000  \n",
       "mean      28.025641  \n",
       "std       16.358624  \n",
       "min        5.000000  \n",
       "25%       16.000000  \n",
       "50%       32.000000  \n",
       "75%       33.000000  \n",
       "max       56.000000  "
      ]
     },
     "execution_count": 6,
     "metadata": {},
     "output_type": "execute_result"
    }
   ],
   "source": [
    "north_east_df.describe()"
   ]
  },
  {
   "cell_type": "code",
   "execution_count": 7,
   "id": "32fead9a",
   "metadata": {},
   "outputs": [
    {
     "data": {
      "text/plain": [
       "<AxesSubplot:>"
      ]
     },
     "execution_count": 7,
     "metadata": {},
     "output_type": "execute_result"
    },
    {
     "data": {
      "image/png": "[encoded data removed]",
      "text/plain": [
       "<Figure size 720x432 with 1 Axes>"
      ]
     },
     "metadata": {},
     "output_type": "display_data"
    }
   ],
   "source": [
    "north_df['price'].hist()"
   ]
  },
  {
   "cell_type": "code",
   "execution_count": 8,
   "id": "c492fee0",
   "metadata": {},
   "outputs": [
    {
     "data": {
      "text/plain": [
       "<AxesSubplot:>"
      ]
     },
     "execution_count": 8,
     "metadata": {},
     "output_type": "execute_result"
    },
    {
     "data": {
      "image/png": "[encoded data removed]",
      "text/plain": [
       "<Figure size 720x432 with 1 Axes>"
      ]
     },
     "metadata": {},
     "output_type": "display_data"
    }
   ],
   "source": [
    "north_east_df['price'].hist()"
   ]
  },
  {
   "cell_type": "markdown",
   "id": "9dec49c6",
   "metadata": {},
   "source": [
    "Мы видим, что наши данные:\n",
    " * **Унимодальны**\n",
    " * **Ассиметричны**\n",
    " * **Имеют выбросы**\n",
    " \n",
    "Из этого, мы можем смело сказать, что **нормальное распределение** здесь отсутствует. Использовать **t-критерий Стьюдента** в расчёте p-уровня значимости мы не можем. Однако существует непараметрический аналог Стьюдента, а именно критерий **Манна-Уитни**.\n",
    "\n",
    "\n",
    "Так же будет неплохо проверить нашу гипотезу с помощью **доверительных интервалов**.\n",
    "\n",
    "Что нам нужно сделать:\n",
    "   * Взять выборки из наших групп одинаковой длинны.\n",
    "   * Узнать **p-уровень значимости** с помощью критерия Манна-Уитни.\n",
    "   * Построить **доверительный интервал** для наших выборок."
   ]
  },
  {
   "cell_type": "markdown",
   "id": "cb3eadba",
   "metadata": {},
   "source": [
    "### Критерий Манна-Уитни."
   ]
  },
  {
   "cell_type": "code",
   "execution_count": 9,
   "id": "ae6dba7c",
   "metadata": {},
   "outputs": [],
   "source": [
    "def check_hypothesis_with_mannwhitneyu(first_data, second_data, sample_count=15, number_of_check=20, show_list=True):\n",
    "    '''\n",
    "    Функция, которая использует тест Манна-Уитни n-ое количество раз, чтобы посмотреть, какая гипотеза появляется больше всего.\n",
    "    \n",
    "    Параметры:\n",
    "    first_data - данные из первой группы.\n",
    "    second_data - данные из второй группы.\n",
    "    sample_count - кол-во наблюдений в выборке(по умолчанию = 25).\n",
    "    number_of_check - количество проведения теста(по умолчанию = 20).\n",
    "    show_list - показывать список значений p-уровня значимостей после расчёта (по умолчанию True).\n",
    "    \n",
    "    Возращает: список p-уровня значимостей из number_of_check тестов.\n",
    "    '''\n",
    "\n",
    "    result_list = []\n",
    "    null_hypothesis_count = 0\n",
    "    alt_hypothesis_count = 0\n",
    "    \n",
    "    for i in range(number_of_check):\n",
    "        \n",
    "        # Получаем выборку для каждой группы.\n",
    "        first_sample = first_data.sample(n=sample_count)\n",
    "        second_sample = second_data.sample(n=sample_count)\n",
    "    \n",
    "        stat, p = mannwhitneyu(first_sample, second_sample)\n",
    "        result_list.append(p)\n",
    "        \n",
    "        if p > 0.05:\n",
    "            null_hypothesis_count += 1\n",
    "        else:\n",
    "            alt_hypothesis_count += 1\n",
    "        \n",
    "    print('Результат тестирования:')\n",
    "    print(f'H0 = {null_hypothesis_count}')\n",
    "    print(f'H1 = {alt_hypothesis_count}\\n')\n",
    "    \n",
    "    if show_list == True:\n",
    "        print(f'Список значений:')\n",
    "        print(result_list)\n",
    "\n",
    "    return result_list"
   ]
  },
  {
   "cell_type": "code",
   "execution_count": 10,
   "id": "5e607d59",
   "metadata": {},
   "outputs": [
    {
     "name": "stdout",
     "output_type": "stream",
     "text": [
      "Результат тестирования:\n",
      "H0 = 20\n",
      "H1 = 0\n",
      "\n",
      "Список значений:\n",
      "[0.8519177555606353, 0.8034411566561627, 0.575468379776696, 0.8357050269952793, 0.21337370709311831, 0.6482039260122094, 0.3195059648919748, 0.5202360544447003, 0.21337370709311831, 0.2371039611073864, 0.6186695570822622, 0.21337370709311831, 0.48073111045562256, 0.9174021048159461, 0.9174021048159461, 1.0, 0.9009605329267507, 0.26275304114766074, 0.9669147771731937, 0.3724053049155098]\n"
     ]
    }
   ],
   "source": [
    "result = check_hypothesis_with_mannwhitneyu(north_east_df['price'], north_df['price'])"
   ]
  },
  {
   "cell_type": "markdown",
   "id": "3cae6168",
   "metadata": {},
   "source": [
    "<div class=\"alert alert-warning\" role=\"alert\">\n",
    "    Во всех случаях, мы видим, что значения склоняются к <b>p-value</b> больше 5%. Однако попробуем провести этот эксперимент не 20, а 100 раз.\n",
    "</div>"
   ]
  },
  {
   "cell_type": "code",
   "execution_count": 11,
   "id": "4d3f923e",
   "metadata": {},
   "outputs": [
    {
     "name": "stdout",
     "output_type": "stream",
     "text": [
      "Результат тестирования:\n",
      "H0 = 88\n",
      "H1 = 12\n",
      "\n"
     ]
    }
   ],
   "source": [
    "result = check_hypothesis_with_mannwhitneyu \\\n",
    "                    (north_east_df['price'],\n",
    "                     north_df['price'],\n",
    "                     number_of_check=100,\n",
    "                     show_list=False)"
   ]
  },
  {
   "cell_type": "markdown",
   "id": "7cb3a252",
   "metadata": {},
   "source": [
    "<div class=\"alert alert-warning\" role=\"alert\">\n",
    "    В <b>88</b> случаях из <b>100</b> у нас верна <b>нулевая гипотеза.</b><br>\n",
    "    Однако будет не лишним посмотреть как расположены наши средние на доверительном интервале.\n",
    "</div>"
   ]
  },
  {
   "cell_type": "markdown",
   "id": "ee622bc2",
   "metadata": {},
   "source": [
    "### Доверительный интервал."
   ]
  },
  {
   "cell_type": "code",
   "execution_count": 12,
   "id": "d9e09d4d",
   "metadata": {},
   "outputs": [],
   "source": [
    "def mean_confidence_interval(data, confidence=0.95):\n",
    "    '''\n",
    "    Функция, которая делает расчёт для доверительного интервала.\n",
    "    \n",
    "    Параметры:\n",
    "    data - выборка данных.\n",
    "    confidence - уровень вероятности доверительного интервала (по умолчанию 95%).\n",
    "    \n",
    "    Возращает:\n",
    "    m - среднее значение выборки.\n",
    "    m-h - нижняя граница интервала.\n",
    "    m+h - верхняя граница интервала.\n",
    "    '''\n",
    "    a = 1.0 * np.array(data)\n",
    "    n = len(a)\n",
    "    m, se = np.mean(a), scipy.stats.sem(a)\n",
    "    h = se * scipy.stats.t.ppf((1 + confidence) / 2., n-1)\n",
    "    return m, m-h, m+h"
   ]
  },
  {
   "cell_type": "code",
   "execution_count": 13,
   "id": "c024d371",
   "metadata": {},
   "outputs": [
    {
     "data": {
      "image/png": "[encoded data removed]",
      "text/plain": [
       "<Figure size 720x432 with 1 Axes>"
      ]
     },
     "metadata": {},
     "output_type": "display_data"
    }
   ],
   "source": [
    "# Создаём выборки.\n",
    "north_sample = north_df['price'].sample(15)\n",
    "north_east_sample = north_east_df['price'].sample(15)\n",
    "\n",
    "# Получаем значения интервалов.\n",
    "north_interval = mean_confidence_interval(north_sample)\n",
    "north_east_interval = mean_confidence_interval(north_east_sample)\n",
    "\n",
    "# Строим график.\n",
    "north_interval_y = (10, 10, 10)\n",
    "north_east_interval_y = (12.5, 12.5, 12.5)\n",
    "\n",
    "tuple_legend = (\n",
    "    'Северный округ',\n",
    "    'Северо-восточный округ'\n",
    ")\n",
    "\n",
    "plt.title('Доверительный интервал по средней цене', fontsize=16)\n",
    "\n",
    "plt.ylim(20)\n",
    "\n",
    "plt.plot(north_interval,\n",
    "         north_interval_y,\n",
    "         marker='o')\n",
    "\n",
    "plt.plot(north_east_interval,\n",
    "         north_east_interval_y,\n",
    "         color='red',\n",
    "         marker='o')\n",
    "\n",
    "plt.legend(tuple_legend)\n",
    "\n",
    "plt.show()"
   ]
  },
  {
   "cell_type": "markdown",
   "id": "646e421a",
   "metadata": {},
   "source": [
    "<div class=\"alert alert-success\" role=\"alert\">\n",
    "    У нас достаточно оснований принять <b>нулевую гипотезу.</b>\n",
    "</div>"
   ]
  },
  {
   "cell_type": "markdown",
   "id": "11a239b3",
   "metadata": {},
   "source": [
    "### Дополнительная проверка: цена за квадратный метр.\n",
    "\n",
    "Благодаря тесту Манна-Уитни, мы приняли гипотезу, гласящую о том, что средняя цена на квартиры в округах одинаковая. Было бы неплохо узнать является ли средняя цена за квадратной метр одинаковой тоже:\n",
    "\n",
    "*Составляем гипотезы:*\n",
    " * **H0:** Средняя цена квадратного метра на трёхкомнатную квартиру в обоих округах одинаковая.\n",
    "\n",
    "\n",
    " * **H1:** Средняя цена квадратного метра на трёхкомнатную квартиру неодинаковая. В Северном округе 3-к квартира стоит дороже."
   ]
  },
  {
   "cell_type": "code",
   "execution_count": 14,
   "id": "ee55550a",
   "metadata": {},
   "outputs": [
    {
     "data": {
      "image/png": "[encoded data removed]",
      "text/plain": [
       "<Figure size 720x432 with 1 Axes>"
      ]
     },
     "metadata": {},
     "output_type": "display_data"
    }
   ],
   "source": [
    "north_df['price_per_square_metr'].hist()\n",
    "plt.title('Гистограмма частот <<Цена за кв.метр>>, Сев.округ', fontsize=16)\n",
    "plt.xlabel('Цена (тысяч.рублей)', fontsize=14)\n",
    "plt.ylabel('Кол-во наблюдений', fontsize=14)\n",
    "plt.show()"
   ]
  },
  {
   "cell_type": "code",
   "execution_count": 15,
   "id": "d7d08631",
   "metadata": {},
   "outputs": [
    {
     "data": {
      "image/png": "[encoded data removed]",
      "text/plain": [
       "<Figure size 720x432 with 1 Axes>"
      ]
     },
     "metadata": {},
     "output_type": "display_data"
    }
   ],
   "source": [
    "north_east_df['price_per_square_metr'].hist()\n",
    "plt.title('Гистограмма частот <<Цена за кв.метр>>, Сев-запад.округ', fontsize=16)\n",
    "plt.xlabel('Цена (тысяч.рублей)', fontsize=14)\n",
    "plt.ylabel('Кол-во наблюдений', fontsize=14)\n",
    "plt.show()"
   ]
  },
  {
   "cell_type": "markdown",
   "id": "39c84380",
   "metadata": {},
   "source": [
    "Мы видим, что наши данные:\n",
    " * **Унимодальны**\n",
    " * **Ассиметричны**\n",
    " * **Имеют выбросы**\n",
    " \n",
    "Вновь применим критерий **Манна-Уитни.**"
   ]
  },
  {
   "cell_type": "code",
   "execution_count": 16,
   "id": "c276e9ce",
   "metadata": {},
   "outputs": [
    {
     "name": "stdout",
     "output_type": "stream",
     "text": [
      "Результат тестирования:\n",
      "H0 = 40\n",
      "H1 = 60\n",
      "\n"
     ]
    }
   ],
   "source": [
    "result = check_hypothesis_with_mannwhitneyu \\\n",
    "            (north_east_df['price_per_square_metr'],\n",
    "             north_df['price_per_square_metr'],\n",
    "             number_of_check=100,\n",
    "             show_list=False)"
   ]
  },
  {
   "cell_type": "markdown",
   "id": "d6c92a7a",
   "metadata": {},
   "source": [
    "Как мы можем наблюдать, мы видим довольно неоднозначную картину в проверке гипотезы.\n",
    "\n",
    "\n",
    "С одной стороны, **альтернативная гипотеза** проявилась на порядок больше чем нулевая гипотеза, однако и нулевой гипотезы в нашем исследование не мало.\n",
    "\n",
    "С другой стороны, при сравнение средних цен за квартиру, мы пришли к выводу, что средние цены в округах не особо сильно и отличаются. \n",
    "\n",
    "Возможно, цена трёхкомнатнхы квартир в этих округах действительно одинаковая, а на квадратуру влияет какая-то другая переменная. Высока вероятность, что влияет на цену квадратного метра переменная **путь до метро(distance_to_station)**.\n",
    "\n",
    "Есть вероятность, что на такой результат повлияло и то, что конкретно числовое представление данных отличается (т.е в буквальном смысле значение цены за квадратный метр больше чем цена квартиры, потому что мы храним там абстрактные значения тысяч и миллионов).\n",
    "\n",
    "Стоит попробовать представить цену за квадратный метр в тех же миллионах и посмотреть, изменится ли результат:"
   ]
  },
  {
   "cell_type": "code",
   "execution_count": 17,
   "id": "32f4ec69",
   "metadata": {},
   "outputs": [
    {
     "name": "stdout",
     "output_type": "stream",
     "text": [
      "Результат тестирования:\n",
      "H0 = 39\n",
      "H1 = 61\n",
      "\n"
     ]
    }
   ],
   "source": [
    "mln_north_price_sqr_data = north_df['price_per_square_metr'].copy()\n",
    "mln_north_east_price_sqr_data = north_east_df['price_per_square_metr'].copy()\n",
    "\n",
    "mln_north_price_sqr_data = mln_north_price_sqr_data / 1000\n",
    "mln_north_east_price_sqr_data = mln_north_east_price_sqr_data / 1000\n",
    "\n",
    "result = check_hypothesis_with_mannwhitneyu \\\n",
    "            (mln_north_east_price_sqr_data,\n",
    "             mln_north_price_sqr_data,\n",
    "             number_of_check=100,\n",
    "             show_list=False)"
   ]
  },
  {
   "cell_type": "markdown",
   "id": "eca24750",
   "metadata": {},
   "source": [
    "Значение **p-value** колеблятся, однако учитывая, что в случае **price** у нас была верна нулевая гипотеза, то здесь я так же склонюсь к этому варианту."
   ]
  },
  {
   "cell_type": "markdown",
   "id": "f41ced25",
   "metadata": {},
   "source": [
    "### Дополнительная проверка: площадь."
   ]
  },
  {
   "cell_type": "code",
   "execution_count": 18,
   "id": "577ac9b4",
   "metadata": {},
   "outputs": [
    {
     "name": "stdout",
     "output_type": "stream",
     "text": [
      "Результат тестирования:\n",
      "H0 = 91\n",
      "H1 = 9\n",
      "\n"
     ]
    }
   ],
   "source": [
    "# Проверим разные ли площади\n",
    "result = check_hypothesis_with_mannwhitneyu \\\n",
    "            (north_east_df['square'],\n",
    "             north_df['square'],\n",
    "             number_of_check=100,\n",
    "             show_list=False)"
   ]
  },
  {
   "cell_type": "code",
   "execution_count": 19,
   "id": "8544abb2",
   "metadata": {},
   "outputs": [
    {
     "data": {
      "image/png": "[encoded data removed]",
      "text/plain": [
       "<Figure size 720x432 with 1 Axes>"
      ]
     },
     "metadata": {},
     "output_type": "display_data"
    }
   ],
   "source": [
    "# Создаём выборки.\n",
    "north_sample = north_df['square'].sample(15)\n",
    "north_east_sample = north_east_df['square'].sample(15)\n",
    "\n",
    "# Получаем значения интервалов.\n",
    "north_interval = mean_confidence_interval(north_sample)\n",
    "north_east_interval = mean_confidence_interval(north_east_sample)\n",
    "\n",
    "# Строим график.\n",
    "north_interval_y = (10, 10, 10)\n",
    "north_east_interval_y = (12.5, 12.5, 12.5)\n",
    "\n",
    "tuple_legend = (\n",
    "    'Северный округ',\n",
    "    'Северо-восточный округ'\n",
    ")\n",
    "\n",
    "plt.title('Доверительный интервал по площади', fontsize=16)\n",
    "\n",
    "plt.ylim(20)\n",
    "\n",
    "plt.plot(north_interval,\n",
    "         north_interval_y,\n",
    "         marker='o')\n",
    "\n",
    "plt.plot(north_east_interval,\n",
    "         north_east_interval_y,\n",
    "         color='red',\n",
    "         marker='o')\n",
    "\n",
    "plt.legend(tuple_legend)\n",
    "\n",
    "plt.show()"
   ]
  },
  {
   "cell_type": "markdown",
   "id": "bfd93b8a",
   "metadata": {},
   "source": [
    "## Средний путь до метро в разрезе округов.\n",
    "\n",
    "В общем анализе мы выявили, что средний путь до метро в разрезе округов отличается, следовательно мы имеем следующее:\n",
    "\n",
    "*Составляем гипотезы:*\n",
    " * **H0:** Средняя путь до метро в каждом округе одинаковый\n",
    "\n",
    "\n",
    " * **H1:** Средний путь до метро в каждом округе отличается или есть **хотя бы** один округ, отличающийся от других.\n",
    " \n",
    "Так как мы сравниваем среднее значение нескольких групп, то использовать парный критерий Стьюдента или Манна-Уитни мы уже не можем. В данной задаче нам поможет **однофакторный дисперсионный анализ.**\n",
    "\n",
    "В качестве:\n",
    "  * Независимой переменной выступает столбец **district**.\n",
    "  * Зависимой переменной выступает **distance_to_station**.\n",
    "  \n",
    "Прежде всего необходимо сделать выборку. Я бы хотел вновь посмотреть на кол-во записей и их среднее значение в разрезе округов."
   ]
  },
  {
   "cell_type": "code",
   "execution_count": 20,
   "id": "1cb986ac",
   "metadata": {},
   "outputs": [
    {
     "data": {
      "text/html": [
       "<div>\n",
       "<style scoped>\n",
       "    .dataframe tbody tr th:only-of-type {\n",
       "        vertical-align: middle;\n",
       "    }\n",
       "\n",
       "    .dataframe tbody tr th {\n",
       "        vertical-align: top;\n",
       "    }\n",
       "\n",
       "    .dataframe thead th {\n",
       "        text-align: right;\n",
       "    }\n",
       "</style>\n",
       "<table border=\"1\" class=\"dataframe\">\n",
       "  <thead>\n",
       "    <tr style=\"text-align: right;\">\n",
       "      <th></th>\n",
       "      <th>district</th>\n",
       "      <th>distance_to_station</th>\n",
       "      <th>count</th>\n",
       "    </tr>\n",
       "  </thead>\n",
       "  <tbody>\n",
       "    <tr>\n",
       "      <th>0</th>\n",
       "      <td>Восточный</td>\n",
       "      <td>0.83</td>\n",
       "      <td>176</td>\n",
       "    </tr>\n",
       "    <tr>\n",
       "      <th>1</th>\n",
       "      <td>Западный</td>\n",
       "      <td>0.79</td>\n",
       "      <td>307</td>\n",
       "    </tr>\n",
       "    <tr>\n",
       "      <th>2</th>\n",
       "      <td>Новомосковский</td>\n",
       "      <td>1.37</td>\n",
       "      <td>277</td>\n",
       "    </tr>\n",
       "    <tr>\n",
       "      <th>3</th>\n",
       "      <td>Северный</td>\n",
       "      <td>0.85</td>\n",
       "      <td>300</td>\n",
       "    </tr>\n",
       "    <tr>\n",
       "      <th>4</th>\n",
       "      <td>Северо-восточный</td>\n",
       "      <td>0.86</td>\n",
       "      <td>208</td>\n",
       "    </tr>\n",
       "    <tr>\n",
       "      <th>5</th>\n",
       "      <td>Северо-западный</td>\n",
       "      <td>1.02</td>\n",
       "      <td>107</td>\n",
       "    </tr>\n",
       "    <tr>\n",
       "      <th>6</th>\n",
       "      <td>Центральный</td>\n",
       "      <td>0.66</td>\n",
       "      <td>259</td>\n",
       "    </tr>\n",
       "    <tr>\n",
       "      <th>7</th>\n",
       "      <td>Юго-восточный</td>\n",
       "      <td>0.84</td>\n",
       "      <td>193</td>\n",
       "    </tr>\n",
       "    <tr>\n",
       "      <th>8</th>\n",
       "      <td>Юго-западный</td>\n",
       "      <td>1.33</td>\n",
       "      <td>173</td>\n",
       "    </tr>\n",
       "    <tr>\n",
       "      <th>9</th>\n",
       "      <td>Южный</td>\n",
       "      <td>1.08</td>\n",
       "      <td>343</td>\n",
       "    </tr>\n",
       "  </tbody>\n",
       "</table>\n",
       "</div>"
      ],
      "text/plain": [
       "           district  distance_to_station  count\n",
       "0         Восточный                 0.83    176\n",
       "1          Западный                 0.79    307\n",
       "2    Новомосковский                 1.37    277\n",
       "3          Северный                 0.85    300\n",
       "4  Северо-восточный                 0.86    208\n",
       "5   Северо-западный                 1.02    107\n",
       "6       Центральный                 0.66    259\n",
       "7     Юго-восточный                 0.84    193\n",
       "8      Юго-западный                 1.33    173\n",
       "9             Южный                 1.08    343"
      ]
     },
     "execution_count": 20,
     "metadata": {},
     "output_type": "execute_result"
    }
   ],
   "source": [
    "means_by_district = df[['distance_to_station', 'district']].groupby('district').agg('mean').reset_index()\n",
    "means_by_district = means_by_district.round(2)\n",
    "\n",
    "# Кол-во квартир по округам.\n",
    "count_by_district = df[['price', 'district']].groupby('district').agg('count').reset_index()\n",
    "count_by_district.rename({'price': 'count'}, axis=1, inplace=True)\n",
    "\n",
    "# Добавим кол-во квартир к предыдущей таблице со средними значениями.\n",
    "result = means_by_district.merge(count_by_district, how='inner', on='district')\n",
    "\n",
    "# Вывод.\n",
    "result"
   ]
  },
  {
   "cell_type": "markdown",
   "id": "f6e68326",
   "metadata": {},
   "source": [
    "Записей довольно много, пусть размер выборки будет равен 60."
   ]
  },
  {
   "cell_type": "code",
   "execution_count": 21,
   "id": "a5c5923f",
   "metadata": {},
   "outputs": [
    {
     "name": "stdout",
     "output_type": "stream",
     "text": [
      "P-value настолько низкое, что можно со 100% вероятностью принять альтернативную гипотезу.\n"
     ]
    }
   ],
   "source": [
    "# Создаём выборки.\n",
    "east_data = df[df['district'] == 'Восточный']['distance_to_station'].sample(60)\n",
    "west_data = df[df['district'] == 'Западный']['distance_to_station'].sample(60)\n",
    "new_moscow_data = df[df['district'] == 'Новомосковский']['distance_to_station'].sample(60)\n",
    "north_data = df[df['district'] == 'Северный']['distance_to_station'].sample(60)\n",
    "north_east_data = df[df['district'] == 'Северо-восточный']['distance_to_station'].sample(60)\n",
    "north_west_data = df[df['district'] == 'Северо-западный']['distance_to_station'].sample(60)\n",
    "centr_data = df[df['district'] == 'Центральный']['distance_to_station'].sample(60)\n",
    "south_east_data = df[df['district'] == 'Юго-восточный']['distance_to_station'].sample(60)\n",
    "south_west_data = df[df['district'] == 'Юго-западный']['distance_to_station'].sample(60)\n",
    "south_data = df[df['district'] == 'Южный']['distance_to_station'].sample(60)\n",
    "\n",
    "F, p = f_oneway(\n",
    "    east_data,\n",
    "    west_data,\n",
    "    new_moscow_data,\n",
    "    north_data,\n",
    "    north_east_data,\n",
    "    north_west_data,\n",
    "    centr_data,\n",
    "    south_east_data,\n",
    "    south_west_data,\n",
    "    south_data\n",
    ")\n",
    "\n",
    "if p < 0.05:\n",
    "    if p < 0.005:\n",
    "        print('P-value настолько низкое, что можно со 100% вероятностью принять альтернативную гипотезу.')\n",
    "    else:\n",
    "        print('Отвергаем нулевую гипотезу')\n",
    "else:\n",
    "    print('Принимаем нулевую гипотезу.')"
   ]
  },
  {
   "cell_type": "markdown",
   "id": "9d4d7ef9",
   "metadata": {},
   "source": [
    "<div class=\"alert alert-warning\" role=\"alert\">\n",
    "    По сути, нам достаточно этого, чтобы принять альтернативную гипотезу, однако стоит построить доверительный интервал, возможно мы сможем найти что-нибудь интересное.\n",
    "</div>"
   ]
  },
  {
   "cell_type": "markdown",
   "id": "e01a1e35",
   "metadata": {},
   "source": [
    "### Доверительные интервалы."
   ]
  },
  {
   "cell_type": "code",
   "execution_count": 22,
   "id": "0ed3304d",
   "metadata": {},
   "outputs": [
    {
     "data": {
      "image/png": "[encoded data removed]",
      "text/plain": [
       "<Figure size 720x432 with 1 Axes>"
      ]
     },
     "metadata": {},
     "output_type": "display_data"
    }
   ],
   "source": [
    "'''\n",
    "Доверительные интервалы.\n",
    "'''\n",
    "east_data_y = np.ones(3)\n",
    "west_data_y = []\n",
    "new_moscow_data_y = []\n",
    "north_data_y = []\n",
    "north_east_data_y = []\n",
    "north_west_data_y = []\n",
    "centr_data_y = []\n",
    "south_east_data_y = []\n",
    "south_west_data_y = []\n",
    "south_data_y = []\n",
    "\n",
    "for i in east_data_y:\n",
    "    west_data_y.append(i + 1)\n",
    "    new_moscow_data_y.append(i + 2)\n",
    "    north_data_y.append(i + 3)\n",
    "    north_east_data_y.append(i + 4)\n",
    "    north_west_data_y.append(i + 5)\n",
    "    centr_data_y.append(i + 6)\n",
    "    south_east_data_y.append(i + 7)\n",
    "    south_west_data_y.append(i + 8)\n",
    "    south_data_y.append(i + 9)\n",
    "    \n",
    "plt.plot(mean_confidence_interval(east_data), east_data_y, marker='o')\n",
    "plt.plot(mean_confidence_interval(west_data), west_data_y, marker='o')\n",
    "plt.plot(mean_confidence_interval(new_moscow_data), new_moscow_data_y, marker='o')\n",
    "plt.plot(mean_confidence_interval(north_data), north_data_y, marker='o')\n",
    "plt.plot(mean_confidence_interval(north_east_data), north_east_data_y, marker='o')\n",
    "plt.plot(mean_confidence_interval(north_west_data), north_west_data_y, marker='o')\n",
    "plt.plot(mean_confidence_interval(centr_data), centr_data_y, marker='o')\n",
    "plt.plot(mean_confidence_interval(south_east_data), south_east_data_y, marker='o')\n",
    "plt.plot(mean_confidence_interval(south_west_data), south_west_data_y, marker='o')\n",
    "plt.plot(mean_confidence_interval(south_data), south_data_y, marker='o')\n",
    "\n",
    "plt.legend(result['district'].unique())\n",
    "plt.title('Доверительный интервал <<Путь до метро>>. Округи', fontsize=16)\n",
    "plt.xlabel('Средний путь до метро (км)', fontsize=14)\n",
    "plt.show()"
   ]
  },
  {
   "cell_type": "markdown",
   "id": "630b74c0",
   "metadata": {},
   "source": [
    "Исходя из доверительного интервала, мы видим, что все отрезки не пересекаются друг с другом, однако мы видим, что:\n",
    " * Отрезки **Южного, Юго-западного** и **Новомосковсокого** округа пересекаются между собой.\n",
    " * Отрезки **Восточного, Западного, Северного, Северо-восточного, Северо-западного** и **Юго-восточного** округа пересекаются между собой.\n",
    " \n",
    "Давайте посмотрим на дисперсионный анализ для этих округов отдельно."
   ]
  },
  {
   "cell_type": "code",
   "execution_count": 23,
   "id": "28ad9716",
   "metadata": {},
   "outputs": [
    {
     "name": "stdout",
     "output_type": "stream",
     "text": [
      "Принимаем нулевую гипотезу.\n"
     ]
    }
   ],
   "source": [
    "F, p = f_oneway(\n",
    "    new_moscow_data,\n",
    "    south_west_data,\n",
    "    south_data\n",
    ")\n",
    "\n",
    "if p < 0.05:\n",
    "    if p < 0.005:\n",
    "        print('P-value настолько низкое, что можно со 100% вероятностью принять альтернативную гипотезу.')\n",
    "    else:\n",
    "        print('Отвергаем нулевую гипотезу')\n",
    "else:\n",
    "    print('Принимаем нулевую гипотезу.')"
   ]
  },
  {
   "cell_type": "code",
   "execution_count": 24,
   "id": "21de55c9",
   "metadata": {},
   "outputs": [
    {
     "data": {
      "image/png": "[encoded data removed]",
      "text/plain": [
       "<Figure size 720x432 with 1 Axes>"
      ]
     },
     "metadata": {},
     "output_type": "display_data"
    }
   ],
   "source": [
    "plt.plot(mean_confidence_interval(new_moscow_data), new_moscow_data_y, marker='o')\n",
    "plt.plot(mean_confidence_interval(south_west_data), south_west_data_y, marker='o')\n",
    "plt.plot(mean_confidence_interval(south_data), south_data_y, marker='o')\n",
    "\n",
    "titles = ('Новомосковский', 'Юго-западный', 'Южный')\n",
    "plt.legend(titles)\n",
    "plt.title('Доверительный интервал <<Путь до метро>>. Округи', fontsize=16)\n",
    "plt.xlabel('Средний путь до метро (км)', fontsize=14)\n",
    "plt.show()"
   ]
  },
  {
   "cell_type": "code",
   "execution_count": 25,
   "id": "76313982",
   "metadata": {},
   "outputs": [
    {
     "name": "stdout",
     "output_type": "stream",
     "text": [
      "Принимаем нулевую гипотезу.\n"
     ]
    }
   ],
   "source": [
    "F, p = f_oneway(\n",
    "    east_data,\n",
    "    west_data,\n",
    "    north_data,\n",
    "    north_east_data,\n",
    "    centr_data,\n",
    "    south_east_data,\n",
    ")\n",
    "\n",
    "if p < 0.05:\n",
    "    if p < 0.005:\n",
    "        print('P-value настолько низкое, что можно со 100% вероятностью принять альтернативную гипотезу.')\n",
    "    else:\n",
    "        print('Отвергаем нулевую гипотезу')\n",
    "else:\n",
    "    print('Принимаем нулевую гипотезу.')"
   ]
  },
  {
   "cell_type": "code",
   "execution_count": 26,
   "id": "73875616",
   "metadata": {},
   "outputs": [
    {
     "data": {
      "image/png": "[encoded data removed]",
      "text/plain": [
       "<Figure size 720x432 with 1 Axes>"
      ]
     },
     "metadata": {},
     "output_type": "display_data"
    }
   ],
   "source": [
    "plt.plot(mean_confidence_interval(east_data), east_data_y, marker='o')\n",
    "plt.plot(mean_confidence_interval(west_data), west_data_y, marker='o')\n",
    "plt.plot(mean_confidence_interval(north_data), north_data_y, marker='o')\n",
    "plt.plot(mean_confidence_interval(north_east_data), north_east_data_y, marker='o')\n",
    "plt.plot(mean_confidence_interval(centr_data), centr_data_y, marker='o')\n",
    "plt.plot(mean_confidence_interval(south_east_data), south_east_data_y, marker='o')\n",
    "\n",
    "titles = ('Восточный', 'Западный', 'Северный', 'Северо-восточный', 'Северо-западный', 'Юго-восточный')\n",
    "plt.legend(titles)\n",
    "plt.title('Доверительный интервал <<Путь до метро>>. Округи', fontsize=16)\n",
    "plt.xlabel('Средний путь до метро (км)', fontsize=14)\n",
    "plt.show()"
   ]
  },
  {
   "cell_type": "markdown",
   "id": "35848c18",
   "metadata": {},
   "source": [
    "### Результат дисперсионного анализа.\n",
    "\n",
    "Исходя из проведенного исследования, мы с уверенностью можем принять **альтернативную гипотезу**.\n",
    "\n",
    "Однако если рассматривать округа в группах, которые мы отобрали выше, то для этих групп справедливо принять **нулевую гипотезу**.\n",
    "\n",
    "А именно вывод следующий:\n",
    " * Средний путь до метро во всех округах не одинаковые.\n",
    " * Средний путь до метро **Восточного, Западного, Северного, Северо-восточного, Северо-западного** и **Юго-восточного** округа одинаковый.\n",
    " * Средний путь до метро **Южного, Юго-западного** и **Новомосковсокого** округа одинаковый."
   ]
  },
  {
   "cell_type": "markdown",
   "id": "284a0c65",
   "metadata": {},
   "source": [
    "## Влияние этажности здания на другие параметры.\n",
    "\n",
    "Так как мы собираемся рассматривает как одна переменная влияет на другие, то здесь нам необходимо воспользоваться **корелляционным анализом.**\n",
    "\n",
    "Мы должны выяснить, как влияет наша переменная **total_floors** на следующие переменные:\n",
    " * **price** (Цена).\n",
    " * **price_per_square_metr** (Цена за квадратный метр).\n",
    " * **square** (Площадь).\n",
    " * **distance_to_station** (Путь до метро).\n",
    " \n",
    "*Составляем гипотезы:*\n",
    " * **H0:** Нет никакой зависимости между двумя переменными.\n",
    "\n",
    "\n",
    " * **H1:** Зависимость между двумя переменными присутствует.\n",
    " \n",
    "В первую очередь стоит посмотреть на то, как распределены наши данные, чтобы исходя из этого мы смогли выбрать подходящий статистический метод."
   ]
  },
  {
   "cell_type": "code",
   "execution_count": 27,
   "id": "c46c097a",
   "metadata": {},
   "outputs": [
    {
     "data": {
      "image/png": "[encoded data removed]",
      "text/plain": [
       "<Figure size 1080x648 with 4 Axes>"
      ]
     },
     "metadata": {},
     "output_type": "display_data"
    }
   ],
   "source": [
    "fig, axes = plt.subplots(2, 2, figsize=(15,9))\n",
    "\n",
    "# Гистограмма цены.\n",
    "axes[0][0].hist(df['price'])\n",
    "axes[0][0].set_title('Гистограмма цены', fontsize=16)\n",
    "\n",
    "# Гистограмма цены за квадратный метр.\n",
    "axes[0][1].hist(df['price_per_square_metr'])\n",
    "axes[0][1].set_title('Гистограмма цены за кв.метр', fontsize=16)\n",
    "\n",
    "# Гистограмма площади.\n",
    "axes[1][0].hist(df['square'])\n",
    "axes[1][0].set_title('Гистограмма площади', fontsize=16)\n",
    "\n",
    "# Гистограмма пути до метро.\n",
    "axes[1][1].hist(df['distance_to_station'])\n",
    "axes[1][1].set_title('Гистограмма пути до метро', fontsize=16)\n",
    "\n",
    "plt.show()"
   ]
  },
  {
   "cell_type": "markdown",
   "id": "795ac6fc",
   "metadata": {},
   "source": [
    "Мы можем заметить, что наши данные не обладают **нормальным распределением**. Исходя из этого, для поиска коэффицента корреляции стоит применить непараметрический метод **Спирмена**."
   ]
  },
  {
   "cell_type": "markdown",
   "id": "7ffd679a",
   "metadata": {},
   "source": [
    "### Коэффицент корреляции Спирмена."
   ]
  },
  {
   "cell_type": "code",
   "execution_count": 28,
   "id": "940a4783",
   "metadata": {},
   "outputs": [],
   "source": [
    "def spearman_coeff(x, y):\n",
    "    '''\n",
    "    '''\n",
    "    \n",
    "    # Получаем значение коэффицента и p-уровня значимости.\n",
    "    coeff, p_value = scipy.stats.spearmanr(x, y)\n",
    "    \n",
    "    coeff = np.round(coeff, 2)\n",
    "    p_value = np.round(p_value, 5)\n",
    "    \n",
    "    if coeff > 0:\n",
    "        if coeff == 1:\n",
    "            print(f'coeff = {coeff} - Полная положительная корреляция.')\n",
    "        else:\n",
    "            if coeff >= 0.8:\n",
    "                print(f'coeff = {coeff} - Сильная положительная корреляция.')\n",
    "            else:\n",
    "                if coeff >= 0.6:\n",
    "                    print(f'coeff = {coeff} - Умеренная положительная корреляция.')\n",
    "                else:\n",
    "                    print(f'coeff = {coeff} - Низкая положительная корреляция.')\n",
    "                \n",
    "    elif coeff < 0:\n",
    "        if coeff == -1:\n",
    "            print(f'coeff = {coeff} - Полная отрицательная корреляция.')\n",
    "        else:\n",
    "            if coeff <= -0.8:\n",
    "                print(f'coeff = {coeff} - Сильная отрицательная корреляция.')\n",
    "            else:\n",
    "                if coeff <= -0.6:\n",
    "                    print(f'coeff = {coeff} - Умеренная отрицательная корреляция.')\n",
    "                else:\n",
    "                    print(f'coeff = {coeff} - Низкая отрицательная корреляция.')\n",
    "    \n",
    "    else:\n",
    "        print(f'coeff = {coeff} - Зависимость между переменными отсутствует.')\n",
    "    \n",
    "    # Проверка p-value.\n",
    "    if p_value > 0.05:\n",
    "        print(f'p = {p_value} - принимаем нулевую гипотезу.')\n",
    "    else:\n",
    "        print(f'p = {p_value} - принимаем альтернативную гипотезу.')"
   ]
  },
  {
   "cell_type": "markdown",
   "id": "7c1d5020",
   "metadata": {},
   "source": [
    "### Результат проверки."
   ]
  },
  {
   "cell_type": "code",
   "execution_count": 29,
   "id": "47ee80e8",
   "metadata": {},
   "outputs": [
    {
     "name": "stdout",
     "output_type": "stream",
     "text": [
      "coeff = 0.15 - Низкая положительная корреляция.\n",
      "p = 0.0 - принимаем альтернативную гипотезу.\n"
     ]
    }
   ],
   "source": [
    "# Этажность-Цена.\n",
    "spearman_coeff(df['total_floors'], df['price'])"
   ]
  },
  {
   "cell_type": "code",
   "execution_count": 30,
   "id": "a42d298e",
   "metadata": {},
   "outputs": [
    {
     "name": "stdout",
     "output_type": "stream",
     "text": [
      "coeff = 0.14 - Низкая положительная корреляция.\n",
      "p = 0.0 - принимаем альтернативную гипотезу.\n"
     ]
    }
   ],
   "source": [
    "# Этажность-Цена за кв.метр.\n",
    "spearman_coeff(df['total_floors'], df['price_per_square_metr'])"
   ]
  },
  {
   "cell_type": "code",
   "execution_count": 31,
   "id": "5163120d",
   "metadata": {},
   "outputs": [
    {
     "name": "stdout",
     "output_type": "stream",
     "text": [
      "coeff = 0.08 - Низкая положительная корреляция.\n",
      "p = 0.00024 - принимаем альтернативную гипотезу.\n"
     ]
    }
   ],
   "source": [
    "# Этажность-Площадь.\n",
    "spearman_coeff(df['total_floors'], df['square'])"
   ]
  },
  {
   "cell_type": "code",
   "execution_count": 32,
   "id": "12f99998",
   "metadata": {},
   "outputs": [
    {
     "name": "stdout",
     "output_type": "stream",
     "text": [
      "coeff = -0.04 - Низкая отрицательная корреляция.\n",
      "p = 0.03274 - принимаем альтернативную гипотезу.\n"
     ]
    }
   ],
   "source": [
    "# Этажность-Путь до метро.\n",
    "spearman_coeff(df['total_floors'], df['distance_to_station'])"
   ]
  },
  {
   "cell_type": "markdown",
   "id": "b94fb7f9",
   "metadata": {},
   "source": [
    "<div class=\"alert alert-warning\" role=\"alert\">\n",
    "        У нас присутствуют низкие положительные/отрицательные корреляции, однако в некоторых случаях, взаимосвязи настолько низкие, что очень близки к подтверждению <b>нулевой гипотезы.</b><br>\n",
    "    \n",
    "В случае с <b>price.</b> и <b>price_per_square_metr</b> очевидно имеется взаимосвязь, насчёт площади и пути до метро, я неочень уверен, посему мне кажется, что как таковой там взаимосвязи и нет.\n",
    "</div>"
   ]
  },
  {
   "cell_type": "markdown",
   "id": "04a4cdb4",
   "metadata": {},
   "source": [
    "## Итог проверки гипотез.\n",
    "\n",
    "Исходя из проверок гипотез мы выявили следующее:\n",
    "\n",
    "<div class=\"alert alert-info\" role=\"alert\">\n",
    "    Средняя цена 3-к квартиры в Северном и Северо-восточном округе - <b>одинаковая.</b>\n",
    "</div>\n",
    "\n",
    "<div class=\"alert alert-info\" role=\"alert\">\n",
    "  Средний путь до метро во всех округах действительно отличается. Однако есть группы округов, где средний путь одинаковый,<br>\n",
    "  а именно:\n",
    "    <list>\n",
    "        <ul>Средний путь до метро <b>Восточного, Западного, Северного, Северо-восточного, Северо-западного</b> и <b>Юго-восточного</b> округа одинаковый.</ul>\n",
    "        <ul>Средний путь до метро <b>Южного, Юго-западного и Новомосковсокого</b> округа одинаковый</ul>\n",
    "    </list>\n",
    "</div>\n",
    "\n",
    "<div class=\"alert alert-info\" role=\"alert\">\n",
    "    Этажность влияет лишь на <b>цену недвижимости</b>, рост этажности положительно сказывается на рост цены.\n",
    "</div>"
   ]
  }
 ],
 "metadata": {
  "kernelspec": {
   "display_name": "Python 3 (ipykernel)",
   "language": "python",
   "name": "python3"
  },
  "language_info": {
   "codemirror_mode": {
    "name": "ipython",
    "version": 3
   },
   "file_extension": ".py",
   "mimetype": "text/x-python",
   "name": "python",
   "nbconvert_exporter": "python",
   "pygments_lexer": "ipython3",
   "version": "3.9.7"
  }
 },
 "nbformat": 4,
 "nbformat_minor": 5
}
